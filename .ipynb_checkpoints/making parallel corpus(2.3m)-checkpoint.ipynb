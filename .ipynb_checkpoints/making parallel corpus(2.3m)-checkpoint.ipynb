{
 "cells": [
  {
   "cell_type": "markdown",
   "id": "1ac314f0",
   "metadata": {},
   "source": [
    "# check the files"
   ]
  },
  {
   "cell_type": "code",
   "execution_count": 1,
   "id": "39a9b44d",
   "metadata": {},
   "outputs": [
    {
     "name": "stdout",
     "output_type": "stream",
     "text": [
      " \u001b[0m\u001b[01;32mLICENSE\u001b[0m*               \u001b[01;32m'making parallel corpus(2.6m).ipynb'\u001b[0m*\r\n",
      " \u001b[01;32mREADME.md\u001b[0m*             \u001b[01;32m'making parallel corpus(50k).ipynb'\u001b[0m*\r\n",
      " \u001b[01;32mbleu_test_code.ipynb\u001b[0m*  \u001b[01;32m'mutual information based word segmentation.ipynb'\u001b[0m*\r\n",
      " \u001b[34;42mdata\u001b[0m/                  \u001b[01;32m'rule-based korean tokenizer.ipynb'\u001b[0m*\r\n"
     ]
    }
   ],
   "source": [
    "ls"
   ]
  },
  {
   "cell_type": "code",
   "execution_count": 2,
   "id": "e828477c",
   "metadata": {},
   "outputs": [
    {
     "name": "stdout",
     "output_type": "stream",
     "text": [
      "\u001b[0m\u001b[34;42m'[원천]ko2zh_social_science_training_csv'\u001b[0m/     \u001b[01;32mko2zh_kpop_1_training.csv\u001b[0m*\r\n",
      "\u001b[34;42m'[원천]ko2zh_social_science_validation_csv'\u001b[0m/   \u001b[01;32mko2zh_kpop_2_validation.csv\u001b[0m*\r\n",
      "\u001b[34;42m'[원천]ko2zh_tech_training_csv'\u001b[0m/               \u001b[01;32mko2zh_law_1_training.csv\u001b[0m*\r\n",
      "\u001b[34;42m'[원천]ko2zh_tech_validation_csv'\u001b[0m/             \u001b[01;32mko2zh_law_2_validation.csv\u001b[0m*\r\n",
      " \u001b[01;32mko2zh_auto_1_training.csv\u001b[0m*                    \u001b[01;32mko2zh_medical_1_training.csv\u001b[0m*\r\n",
      " \u001b[01;32mko2zh_auto_2_validation.csv\u001b[0m*                  \u001b[01;32mko2zh_medical_2_validation.csv\u001b[0m*\r\n",
      " \u001b[01;32mko2zh_edu_1_training.csv\u001b[0m*                     \u001b[01;32mko2zh_patent_1_training.csv\u001b[0m*\r\n",
      " \u001b[01;32mko2zh_edu_2_validation.csv\u001b[0m*                   \u001b[01;32mko2zh_patent_2_validation.csv\u001b[0m*\r\n",
      " \u001b[01;32mko2zh_finance_1_training.csv\u001b[0m*                 \u001b[01;32mko2zh_politics_1_training.csv\u001b[0m*\r\n",
      " \u001b[01;32mko2zh_finance_2_validation.csv\u001b[0m*               \u001b[01;32mko2zh_politics_2_validation.csv\u001b[0m*\r\n",
      " \u001b[01;32mko2zh_folk_1_training.csv\u001b[0m*                    \u001b[01;32mko2zh_society_1_training.csv\u001b[0m*\r\n",
      " \u001b[01;32mko2zh_folk_2_validation.csv\u001b[0m*                  \u001b[01;32mko2zh_society_2_validation.csv\u001b[0m*\r\n",
      " \u001b[01;32mko2zh_it_tech_1_training.csv\u001b[0m*                 \u001b[01;32mkorean-chinese.csv\u001b[0m*\r\n",
      " \u001b[01;32mko2zh_it_tech_2_validation.csv\u001b[0m*\r\n"
     ]
    }
   ],
   "source": [
    "ls ../data/ko-zh\\ parallel"
   ]
  },
  {
   "cell_type": "markdown",
   "id": "7788b32f",
   "metadata": {},
   "source": [
    "# merge all together"
   ]
  },
  {
   "cell_type": "code",
   "execution_count": 3,
   "id": "a5bb1e12",
   "metadata": {},
   "outputs": [],
   "source": [
    "import os\n",
    "\n",
    "path = '../data/ko-zh parallel'\n",
    "files = os.listdir(path)"
   ]
  },
  {
   "cell_type": "code",
   "execution_count": 4,
   "id": "188ef81d",
   "metadata": {},
   "outputs": [
    {
     "data": {
      "text/plain": [
       "['ko2zh_auto_1_training.csv',\n",
       " 'ko2zh_auto_2_validation.csv',\n",
       " 'ko2zh_edu_1_training.csv',\n",
       " 'ko2zh_edu_2_validation.csv',\n",
       " 'ko2zh_finance_1_training.csv',\n",
       " 'ko2zh_finance_2_validation.csv',\n",
       " 'ko2zh_folk_1_training.csv',\n",
       " 'ko2zh_folk_2_validation.csv',\n",
       " 'ko2zh_it_tech_1_training.csv',\n",
       " 'ko2zh_it_tech_2_validation.csv',\n",
       " 'ko2zh_kpop_1_training.csv',\n",
       " 'ko2zh_kpop_2_validation.csv',\n",
       " 'ko2zh_law_1_training.csv',\n",
       " 'ko2zh_law_2_validation.csv',\n",
       " 'ko2zh_medical_1_training.csv',\n",
       " 'ko2zh_medical_2_validation.csv',\n",
       " 'ko2zh_patent_1_training.csv',\n",
       " 'ko2zh_patent_2_validation.csv',\n",
       " 'ko2zh_politics_1_training.csv',\n",
       " 'ko2zh_politics_2_validation.csv',\n",
       " 'ko2zh_society_1_training.csv',\n",
       " 'ko2zh_society_2_validation.csv']"
      ]
     },
     "execution_count": 4,
     "metadata": {},
     "output_type": "execute_result"
    }
   ],
   "source": [
    "files = files[:22]\n",
    "files"
   ]
  },
  {
   "cell_type": "code",
   "execution_count": 5,
   "id": "43822357",
   "metadata": {},
   "outputs": [],
   "source": [
    "import pandas as pd\n",
    "\n",
    "parallel = pd.read_csv(path + '/' + files[0])"
   ]
  },
  {
   "cell_type": "code",
   "execution_count": 6,
   "id": "4bebb9d7",
   "metadata": {},
   "outputs": [
    {
     "data": {
      "text/plain": [
       "(240000, 9)"
      ]
     },
     "execution_count": 6,
     "metadata": {},
     "output_type": "execute_result"
    }
   ],
   "source": [
    "parallel.shape"
   ]
  },
  {
   "cell_type": "code",
   "execution_count": 7,
   "id": "293e1cd5",
   "metadata": {},
   "outputs": [
    {
     "data": {
      "text/html": [
       "<div>\n",
       "<style scoped>\n",
       "    .dataframe tbody tr th:only-of-type {\n",
       "        vertical-align: middle;\n",
       "    }\n",
       "\n",
       "    .dataframe tbody tr th {\n",
       "        vertical-align: top;\n",
       "    }\n",
       "\n",
       "    .dataframe thead th {\n",
       "        text-align: right;\n",
       "    }\n",
       "</style>\n",
       "<table border=\"1\" class=\"dataframe\">\n",
       "  <thead>\n",
       "    <tr style=\"text-align: right;\">\n",
       "      <th></th>\n",
       "      <th>관리번호</th>\n",
       "      <th>분야</th>\n",
       "      <th>한국어</th>\n",
       "      <th>중국어</th>\n",
       "      <th>한국어_어절수</th>\n",
       "      <th>중국어_글자수</th>\n",
       "      <th>길이_분류</th>\n",
       "      <th>출처</th>\n",
       "      <th>수행기관</th>\n",
       "    </tr>\n",
       "  </thead>\n",
       "  <tbody>\n",
       "    <tr>\n",
       "      <th>0</th>\n",
       "      <td>KO-ZH-2020-AUTO-000001</td>\n",
       "      <td>자동차/부품/교통/소재</td>\n",
       "      <td>리 회장은 그의 회사가 볼보나 사브를 살 계획이라는 보도에 대해 평가절하했다.</td>\n",
       "      <td>李会长对他的公司计划购买沃尔沃或萨博的报道上表示了贬值。</td>\n",
       "      <td>11</td>\n",
       "      <td>27</td>\n",
       "      <td>2</td>\n",
       "      <td>NaN</td>\n",
       "      <td>윤즈정보개발</td>\n",
       "    </tr>\n",
       "    <tr>\n",
       "      <th>1</th>\n",
       "      <td>KO-ZH-2020-AUTO-000002</td>\n",
       "      <td>자동차/부품/교통/소재</td>\n",
       "      <td>현대차 관계자는 \"하이브리드 모델이 추가된 현대차 코나는 가솔린-디젤-하이브리드-전...</td>\n",
       "      <td>现代汽车相关人士表示:\"追加混合动力车款的现代汽车科纳是拥有汽油-柴油-混合动力-电动汽车国...</td>\n",
       "      <td>25</td>\n",
       "      <td>64</td>\n",
       "      <td>5</td>\n",
       "      <td>https://www.hankyung.com/economy/article/20190...</td>\n",
       "      <td>윤즈정보개발</td>\n",
       "    </tr>\n",
       "    <tr>\n",
       "      <th>2</th>\n",
       "      <td>KO-ZH-2020-AUTO-000003</td>\n",
       "      <td>자동차/부품/교통/소재</td>\n",
       "      <td>금감원은 최근 교통법규 위반 운전자에 대해 보험료를 최고 30% 할증하는 방안이 운...</td>\n",
       "      <td>金融监管局最近下令制定一项计划,将违反交通法规的驾驶员的保险费提高至30％,以引起驾驶员和政...</td>\n",
       "      <td>22</td>\n",
       "      <td>72</td>\n",
       "      <td>4</td>\n",
       "      <td>NaN</td>\n",
       "      <td>윤즈정보개발</td>\n",
       "    </tr>\n",
       "    <tr>\n",
       "      <th>3</th>\n",
       "      <td>KO-ZH-2020-AUTO-000004</td>\n",
       "      <td>자동차/부품/교통/소재</td>\n",
       "      <td>앞서 한신평은 전날 현대·기아차의 신용등급을 한단계씩 하향 조정했다.</td>\n",
       "      <td>此前,韩国信用评级机构在前一天将现代、起亚汽车的信用等级分别下调了一个等级。</td>\n",
       "      <td>8</td>\n",
       "      <td>35</td>\n",
       "      <td>1</td>\n",
       "      <td>http://www.sedaily.com/NewsView/1VQY5WHISW</td>\n",
       "      <td>윤즈정보개발</td>\n",
       "    </tr>\n",
       "    <tr>\n",
       "      <th>4</th>\n",
       "      <td>KO-ZH-2020-AUTO-000005</td>\n",
       "      <td>자동차/부품/교통/소재</td>\n",
       "      <td>IHS 마킷 이코노미스트 샨 존스는 \"설문에 답한 업체들이 자동차 산업이 맞닥뜨린 ...</td>\n",
       "      <td>IHS Markit经济学家肖恩·琼斯表示：\"回答问卷的企业们强调了汽车产业面临的艰难环境。\"</td>\n",
       "      <td>15</td>\n",
       "      <td>32</td>\n",
       "      <td>3</td>\n",
       "      <td>http://www.fnnews.com/news/201911251720596111</td>\n",
       "      <td>윤즈정보개발</td>\n",
       "    </tr>\n",
       "  </tbody>\n",
       "</table>\n",
       "</div>"
      ],
      "text/plain": [
       "                     관리번호            분야  \\\n",
       "0  KO-ZH-2020-AUTO-000001  자동차/부품/교통/소재   \n",
       "1  KO-ZH-2020-AUTO-000002  자동차/부품/교통/소재   \n",
       "2  KO-ZH-2020-AUTO-000003  자동차/부품/교통/소재   \n",
       "3  KO-ZH-2020-AUTO-000004  자동차/부품/교통/소재   \n",
       "4  KO-ZH-2020-AUTO-000005  자동차/부품/교통/소재   \n",
       "\n",
       "                                                 한국어  \\\n",
       "0        리 회장은 그의 회사가 볼보나 사브를 살 계획이라는 보도에 대해 평가절하했다.   \n",
       "1  현대차 관계자는 \"하이브리드 모델이 추가된 현대차 코나는 가솔린-디젤-하이브리드-전...   \n",
       "2  금감원은 최근 교통법규 위반 운전자에 대해 보험료를 최고 30% 할증하는 방안이 운...   \n",
       "3             앞서 한신평은 전날 현대·기아차의 신용등급을 한단계씩 하향 조정했다.   \n",
       "4  IHS 마킷 이코노미스트 샨 존스는 \"설문에 답한 업체들이 자동차 산업이 맞닥뜨린 ...   \n",
       "\n",
       "                                                 중국어  한국어_어절수  중국어_글자수  길이_분류  \\\n",
       "0                       李会长对他的公司计划购买沃尔沃或萨博的报道上表示了贬值。       11       27      2   \n",
       "1  现代汽车相关人士表示:\"追加混合动力车款的现代汽车科纳是拥有汽油-柴油-混合动力-电动汽车国...       25       64      5   \n",
       "2  金融监管局最近下令制定一项计划,将违反交通法规的驾驶员的保险费提高至30％,以引起驾驶员和政...       22       72      4   \n",
       "3             此前,韩国信用评级机构在前一天将现代、起亚汽车的信用等级分别下调了一个等级。        8       35      1   \n",
       "4    IHS Markit经济学家肖恩·琼斯表示：\"回答问卷的企业们强调了汽车产业面临的艰难环境。\"       15       32      3   \n",
       "\n",
       "                                                  출처    수행기관  \n",
       "0                                                NaN  윤즈정보개발  \n",
       "1  https://www.hankyung.com/economy/article/20190...  윤즈정보개발  \n",
       "2                                                NaN  윤즈정보개발  \n",
       "3         http://www.sedaily.com/NewsView/1VQY5WHISW  윤즈정보개발  \n",
       "4      http://www.fnnews.com/news/201911251720596111  윤즈정보개발  "
      ]
     },
     "execution_count": 7,
     "metadata": {},
     "output_type": "execute_result"
    }
   ],
   "source": [
    "parallel.head()"
   ]
  },
  {
   "cell_type": "code",
   "execution_count": 8,
   "id": "42149efc",
   "metadata": {},
   "outputs": [
    {
     "name": "stdout",
     "output_type": "stream",
     "text": [
      "(30000, 9)\n",
      "(80000, 9)\n",
      "(10000, 9)\n",
      "(160000, 9)\n",
      "(20000, 9)\n",
      "(120000, 9)\n",
      "(15000, 9)\n",
      "(480000, 9)\n",
      "(60000, 9)\n",
      "(160000, 9)\n",
      "(20000, 9)\n",
      "(160000, 9)\n",
      "(20000, 9)\n",
      "(200000, 9)\n",
      "(25000, 9)\n",
      "(120000, 9)\n",
      "(15000, 9)\n",
      "(200000, 9)\n",
      "(25000, 9)\n",
      "(160000, 9)\n",
      "(20000, 9)\n"
     ]
    }
   ],
   "source": [
    "for f in files[1:]:\n",
    "    df = pd.read_csv(path + '/' + f, low_memory=False)\n",
    "    print(df.shape)\n",
    "    parallel = pd.concat([parallel, df])"
   ]
  },
  {
   "cell_type": "code",
   "execution_count": 9,
   "id": "2c9011e1",
   "metadata": {},
   "outputs": [
    {
     "data": {
      "text/plain": [
       "(2340000, 9)"
      ]
     },
     "execution_count": 9,
     "metadata": {},
     "output_type": "execute_result"
    }
   ],
   "source": [
    "parallel.shape"
   ]
  },
  {
   "cell_type": "markdown",
   "id": "052cf99b",
   "metadata": {},
   "source": [
    "# select only korean and chinese text columns"
   ]
  },
  {
   "cell_type": "code",
   "execution_count": 55,
   "id": "432c3e04",
   "metadata": {},
   "outputs": [],
   "source": [
    "kozh = parallel[['한국어', '중국어']]"
   ]
  },
  {
   "cell_type": "code",
   "execution_count": 56,
   "id": "bfac95b3",
   "metadata": {},
   "outputs": [
    {
     "data": {
      "text/plain": [
       "(2340000, 2)"
      ]
     },
     "execution_count": 56,
     "metadata": {},
     "output_type": "execute_result"
    }
   ],
   "source": [
    "kozh.shape"
   ]
  },
  {
   "cell_type": "code",
   "execution_count": 57,
   "id": "416351d2",
   "metadata": {},
   "outputs": [
    {
     "data": {
      "text/html": [
       "<div>\n",
       "<style scoped>\n",
       "    .dataframe tbody tr th:only-of-type {\n",
       "        vertical-align: middle;\n",
       "    }\n",
       "\n",
       "    .dataframe tbody tr th {\n",
       "        vertical-align: top;\n",
       "    }\n",
       "\n",
       "    .dataframe thead th {\n",
       "        text-align: right;\n",
       "    }\n",
       "</style>\n",
       "<table border=\"1\" class=\"dataframe\">\n",
       "  <thead>\n",
       "    <tr style=\"text-align: right;\">\n",
       "      <th></th>\n",
       "      <th>한국어</th>\n",
       "      <th>중국어</th>\n",
       "    </tr>\n",
       "  </thead>\n",
       "  <tbody>\n",
       "    <tr>\n",
       "      <th>0</th>\n",
       "      <td>리 회장은 그의 회사가 볼보나 사브를 살 계획이라는 보도에 대해 평가절하했다.</td>\n",
       "      <td>李会长对他的公司计划购买沃尔沃或萨博的报道上表示了贬值。</td>\n",
       "    </tr>\n",
       "    <tr>\n",
       "      <th>1</th>\n",
       "      <td>현대차 관계자는 \"하이브리드 모델이 추가된 현대차 코나는 가솔린-디젤-하이브리드-전...</td>\n",
       "      <td>现代汽车相关人士表示:\"追加混合动力车款的现代汽车科纳是拥有汽油-柴油-混合动力-电动汽车国...</td>\n",
       "    </tr>\n",
       "    <tr>\n",
       "      <th>2</th>\n",
       "      <td>금감원은 최근 교통법규 위반 운전자에 대해 보험료를 최고 30% 할증하는 방안이 운...</td>\n",
       "      <td>金融监管局最近下令制定一项计划,将违反交通法规的驾驶员的保险费提高至30％,以引起驾驶员和政...</td>\n",
       "    </tr>\n",
       "    <tr>\n",
       "      <th>3</th>\n",
       "      <td>앞서 한신평은 전날 현대·기아차의 신용등급을 한단계씩 하향 조정했다.</td>\n",
       "      <td>此前,韩国信用评级机构在前一天将现代、起亚汽车的信用等级分别下调了一个等级。</td>\n",
       "    </tr>\n",
       "    <tr>\n",
       "      <th>4</th>\n",
       "      <td>IHS 마킷 이코노미스트 샨 존스는 \"설문에 답한 업체들이 자동차 산업이 맞닥뜨린 ...</td>\n",
       "      <td>IHS Markit经济学家肖恩·琼斯表示：\"回答问卷的企业们强调了汽车产业面临的艰难环境。\"</td>\n",
       "    </tr>\n",
       "  </tbody>\n",
       "</table>\n",
       "</div>"
      ],
      "text/plain": [
       "                                                 한국어  \\\n",
       "0        리 회장은 그의 회사가 볼보나 사브를 살 계획이라는 보도에 대해 평가절하했다.   \n",
       "1  현대차 관계자는 \"하이브리드 모델이 추가된 현대차 코나는 가솔린-디젤-하이브리드-전...   \n",
       "2  금감원은 최근 교통법규 위반 운전자에 대해 보험료를 최고 30% 할증하는 방안이 운...   \n",
       "3             앞서 한신평은 전날 현대·기아차의 신용등급을 한단계씩 하향 조정했다.   \n",
       "4  IHS 마킷 이코노미스트 샨 존스는 \"설문에 답한 업체들이 자동차 산업이 맞닥뜨린 ...   \n",
       "\n",
       "                                                 중국어  \n",
       "0                       李会长对他的公司计划购买沃尔沃或萨博的报道上表示了贬值。  \n",
       "1  现代汽车相关人士表示:\"追加混合动力车款的现代汽车科纳是拥有汽油-柴油-混合动力-电动汽车国...  \n",
       "2  金融监管局最近下令制定一项计划,将违反交通法规的驾驶员的保险费提高至30％,以引起驾驶员和政...  \n",
       "3             此前,韩国信用评级机构在前一天将现代、起亚汽车的信用等级分别下调了一个等级。  \n",
       "4    IHS Markit经济学家肖恩·琼斯表示：\"回答问卷的企业们强调了汽车产业面临的艰难环境。\"  "
      ]
     },
     "execution_count": 57,
     "metadata": {},
     "output_type": "execute_result"
    }
   ],
   "source": [
    "kozh.head()"
   ]
  },
  {
   "cell_type": "code",
   "execution_count": 58,
   "id": "4997bea4",
   "metadata": {},
   "outputs": [
    {
     "data": {
      "text/html": [
       "<div>\n",
       "<style scoped>\n",
       "    .dataframe tbody tr th:only-of-type {\n",
       "        vertical-align: middle;\n",
       "    }\n",
       "\n",
       "    .dataframe tbody tr th {\n",
       "        vertical-align: top;\n",
       "    }\n",
       "\n",
       "    .dataframe thead th {\n",
       "        text-align: right;\n",
       "    }\n",
       "</style>\n",
       "<table border=\"1\" class=\"dataframe\">\n",
       "  <thead>\n",
       "    <tr style=\"text-align: right;\">\n",
       "      <th></th>\n",
       "      <th>korean</th>\n",
       "      <th>chinese</th>\n",
       "    </tr>\n",
       "  </thead>\n",
       "  <tbody>\n",
       "    <tr>\n",
       "      <th>0</th>\n",
       "      <td>리 회장은 그의 회사가 볼보나 사브를 살 계획이라는 보도에 대해 평가절하했다.</td>\n",
       "      <td>李会长对他的公司计划购买沃尔沃或萨博的报道上表示了贬值。</td>\n",
       "    </tr>\n",
       "    <tr>\n",
       "      <th>1</th>\n",
       "      <td>현대차 관계자는 \"하이브리드 모델이 추가된 현대차 코나는 가솔린-디젤-하이브리드-전...</td>\n",
       "      <td>现代汽车相关人士表示:\"追加混合动力车款的现代汽车科纳是拥有汽油-柴油-混合动力-电动汽车国...</td>\n",
       "    </tr>\n",
       "    <tr>\n",
       "      <th>2</th>\n",
       "      <td>금감원은 최근 교통법규 위반 운전자에 대해 보험료를 최고 30% 할증하는 방안이 운...</td>\n",
       "      <td>金融监管局最近下令制定一项计划,将违反交通法规的驾驶员的保险费提高至30％,以引起驾驶员和政...</td>\n",
       "    </tr>\n",
       "    <tr>\n",
       "      <th>3</th>\n",
       "      <td>앞서 한신평은 전날 현대·기아차의 신용등급을 한단계씩 하향 조정했다.</td>\n",
       "      <td>此前,韩国信用评级机构在前一天将现代、起亚汽车的信用等级分别下调了一个等级。</td>\n",
       "    </tr>\n",
       "    <tr>\n",
       "      <th>4</th>\n",
       "      <td>IHS 마킷 이코노미스트 샨 존스는 \"설문에 답한 업체들이 자동차 산업이 맞닥뜨린 ...</td>\n",
       "      <td>IHS Markit经济学家肖恩·琼斯表示：\"回答问卷的企业们强调了汽车产业面临的艰难环境。\"</td>\n",
       "    </tr>\n",
       "    <tr>\n",
       "      <th>...</th>\n",
       "      <td>...</td>\n",
       "      <td>...</td>\n",
       "    </tr>\n",
       "    <tr>\n",
       "      <th>19995</th>\n",
       "      <td>한편 고용부는 외국인 다수 고용 사업장 등 신종 코로나에 취약한 건설·제조·서비스업...</td>\n",
       "      <td>另外,雇佣部计划向外国人多数雇佣工厂等对新型日冕脆弱的建设、制造、服务业事业场紧急支援72万...</td>\n",
       "    </tr>\n",
       "    <tr>\n",
       "      <th>19996</th>\n",
       "      <td>전국공무원노동조합 부산지역본부에 따르면 28일 오전 8시쯤 부산시청 로비에서 부산시...</td>\n",
       "      <td>据全国公务员工会釜山地区总部透露,28日上午8点左右,在釜山市政府大厅,釜山市公务员工会和民...</td>\n",
       "    </tr>\n",
       "    <tr>\n",
       "      <th>19997</th>\n",
       "      <td>도는 이번 투자협약을 계기로 청년 및 여성 고용 비율이 높은 지식정보문화 분야 투자...</td>\n",
       "      <td>道计划将以此次投资协议为契机,继续努力吸引青年及女性雇佣比率较高的知识信息文化领域的投资,为...</td>\n",
       "    </tr>\n",
       "    <tr>\n",
       "      <th>19998</th>\n",
       "      <td>다행히 정부 부처와 서울시 등 지자체에서는 재학기간 중 최저임금 수준의 급여를 제공...</td>\n",
       "      <td>幸运的是,随着政府部门和首尔市等地方自治团在校期间提供了最低工资水平的工资,在大幅增加体验实...</td>\n",
       "    </tr>\n",
       "    <tr>\n",
       "      <th>19999</th>\n",
       "      <td>순조롭게 매각되더라도 구조조정이라는 불가피한 선택을 강요받게 된다는 얘기다.</td>\n",
       "      <td>也就是说,即使顺利出售,也会被迫所谓结构调整的不可避免的选择。</td>\n",
       "    </tr>\n",
       "  </tbody>\n",
       "</table>\n",
       "<p>2340000 rows × 2 columns</p>\n",
       "</div>"
      ],
      "text/plain": [
       "                                                  korean  \\\n",
       "0            리 회장은 그의 회사가 볼보나 사브를 살 계획이라는 보도에 대해 평가절하했다.   \n",
       "1      현대차 관계자는 \"하이브리드 모델이 추가된 현대차 코나는 가솔린-디젤-하이브리드-전...   \n",
       "2      금감원은 최근 교통법규 위반 운전자에 대해 보험료를 최고 30% 할증하는 방안이 운...   \n",
       "3                 앞서 한신평은 전날 현대·기아차의 신용등급을 한단계씩 하향 조정했다.   \n",
       "4      IHS 마킷 이코노미스트 샨 존스는 \"설문에 답한 업체들이 자동차 산업이 맞닥뜨린 ...   \n",
       "...                                                  ...   \n",
       "19995  한편 고용부는 외국인 다수 고용 사업장 등 신종 코로나에 취약한 건설·제조·서비스업...   \n",
       "19996  전국공무원노동조합 부산지역본부에 따르면 28일 오전 8시쯤 부산시청 로비에서 부산시...   \n",
       "19997  도는 이번 투자협약을 계기로 청년 및 여성 고용 비율이 높은 지식정보문화 분야 투자...   \n",
       "19998  다행히 정부 부처와 서울시 등 지자체에서는 재학기간 중 최저임금 수준의 급여를 제공...   \n",
       "19999         순조롭게 매각되더라도 구조조정이라는 불가피한 선택을 강요받게 된다는 얘기다.   \n",
       "\n",
       "                                                 chinese  \n",
       "0                           李会长对他的公司计划购买沃尔沃或萨博的报道上表示了贬值。  \n",
       "1      现代汽车相关人士表示:\"追加混合动力车款的现代汽车科纳是拥有汽油-柴油-混合动力-电动汽车国...  \n",
       "2      金融监管局最近下令制定一项计划,将违反交通法规的驾驶员的保险费提高至30％,以引起驾驶员和政...  \n",
       "3                 此前,韩国信用评级机构在前一天将现代、起亚汽车的信用等级分别下调了一个等级。  \n",
       "4        IHS Markit经济学家肖恩·琼斯表示：\"回答问卷的企业们强调了汽车产业面临的艰难环境。\"  \n",
       "...                                                  ...  \n",
       "19995  另外,雇佣部计划向外国人多数雇佣工厂等对新型日冕脆弱的建设、制造、服务业事业场紧急支援72万...  \n",
       "19996  据全国公务员工会釜山地区总部透露,28日上午8点左右,在釜山市政府大厅,釜山市公务员工会和民...  \n",
       "19997  道计划将以此次投资协议为契机,继续努力吸引青年及女性雇佣比率较高的知识信息文化领域的投资,为...  \n",
       "19998  幸运的是,随着政府部门和首尔市等地方自治团在校期间提供了最低工资水平的工资,在大幅增加体验实...  \n",
       "19999                    也就是说,即使顺利出售,也会被迫所谓结构调整的不可避免的选择。  \n",
       "\n",
       "[2340000 rows x 2 columns]"
      ]
     },
     "execution_count": 58,
     "metadata": {},
     "output_type": "execute_result"
    }
   ],
   "source": [
    "kozh.rename(columns={\"한국어\": \"korean\", \"중국어\": \"chinese\"})"
   ]
  },
  {
   "cell_type": "markdown",
   "id": "30c8beb9",
   "metadata": {},
   "source": [
    "# save to csv"
   ]
  },
  {
   "cell_type": "code",
   "execution_count": 60,
   "id": "18cd0f1a",
   "metadata": {},
   "outputs": [
    {
     "data": {
      "text/plain": [
       "'../data/ko-zh parallel'"
      ]
     },
     "execution_count": 60,
     "metadata": {},
     "output_type": "execute_result"
    }
   ],
   "source": [
    "path"
   ]
  },
  {
   "cell_type": "code",
   "execution_count": 61,
   "id": "90ce243d",
   "metadata": {},
   "outputs": [],
   "source": [
    "kozh.to_csv(path+'/'+'korean-chinese.csv', index=False, encoding='utf-8')"
   ]
  },
  {
   "cell_type": "markdown",
   "id": "23781fdd",
   "metadata": {},
   "source": [
    "# check it if readable"
   ]
  },
  {
   "cell_type": "code",
   "execution_count": 62,
   "id": "51de9f87",
   "metadata": {},
   "outputs": [],
   "source": [
    "tmp = pd.read_csv(path+'/'+'korean-chinese.csv', encoding='utf-8')"
   ]
  },
  {
   "cell_type": "code",
   "execution_count": 64,
   "id": "c49e0b3d",
   "metadata": {},
   "outputs": [
    {
     "data": {
      "text/plain": [
       "(2340000, 2)"
      ]
     },
     "execution_count": 64,
     "metadata": {},
     "output_type": "execute_result"
    }
   ],
   "source": [
    "tmp.shape"
   ]
  },
  {
   "cell_type": "code",
   "execution_count": 65,
   "id": "08d92db8",
   "metadata": {},
   "outputs": [
    {
     "data": {
      "text/html": [
       "<div>\n",
       "<style scoped>\n",
       "    .dataframe tbody tr th:only-of-type {\n",
       "        vertical-align: middle;\n",
       "    }\n",
       "\n",
       "    .dataframe tbody tr th {\n",
       "        vertical-align: top;\n",
       "    }\n",
       "\n",
       "    .dataframe thead th {\n",
       "        text-align: right;\n",
       "    }\n",
       "</style>\n",
       "<table border=\"1\" class=\"dataframe\">\n",
       "  <thead>\n",
       "    <tr style=\"text-align: right;\">\n",
       "      <th></th>\n",
       "      <th>한국어</th>\n",
       "      <th>중국어</th>\n",
       "    </tr>\n",
       "  </thead>\n",
       "  <tbody>\n",
       "    <tr>\n",
       "      <th>0</th>\n",
       "      <td>리 회장은 그의 회사가 볼보나 사브를 살 계획이라는 보도에 대해 평가절하했다.</td>\n",
       "      <td>李会长对他的公司计划购买沃尔沃或萨博的报道上表示了贬值。</td>\n",
       "    </tr>\n",
       "    <tr>\n",
       "      <th>1</th>\n",
       "      <td>현대차 관계자는 \"하이브리드 모델이 추가된 현대차 코나는 가솔린-디젤-하이브리드-전...</td>\n",
       "      <td>现代汽车相关人士表示:\"追加混合动力车款的现代汽车科纳是拥有汽油-柴油-混合动力-电动汽车国...</td>\n",
       "    </tr>\n",
       "    <tr>\n",
       "      <th>2</th>\n",
       "      <td>금감원은 최근 교통법규 위반 운전자에 대해 보험료를 최고 30% 할증하는 방안이 운...</td>\n",
       "      <td>金融监管局最近下令制定一项计划,将违反交通法规的驾驶员的保险费提高至30％,以引起驾驶员和政...</td>\n",
       "    </tr>\n",
       "    <tr>\n",
       "      <th>3</th>\n",
       "      <td>앞서 한신평은 전날 현대·기아차의 신용등급을 한단계씩 하향 조정했다.</td>\n",
       "      <td>此前,韩国信用评级机构在前一天将现代、起亚汽车的信用等级分别下调了一个等级。</td>\n",
       "    </tr>\n",
       "    <tr>\n",
       "      <th>4</th>\n",
       "      <td>IHS 마킷 이코노미스트 샨 존스는 \"설문에 답한 업체들이 자동차 산업이 맞닥뜨린 ...</td>\n",
       "      <td>IHS Markit经济学家肖恩·琼斯表示：\"回答问卷的企业们强调了汽车产业面临的艰难环境。\"</td>\n",
       "    </tr>\n",
       "  </tbody>\n",
       "</table>\n",
       "</div>"
      ],
      "text/plain": [
       "                                                 한국어  \\\n",
       "0        리 회장은 그의 회사가 볼보나 사브를 살 계획이라는 보도에 대해 평가절하했다.   \n",
       "1  현대차 관계자는 \"하이브리드 모델이 추가된 현대차 코나는 가솔린-디젤-하이브리드-전...   \n",
       "2  금감원은 최근 교통법규 위반 운전자에 대해 보험료를 최고 30% 할증하는 방안이 운...   \n",
       "3             앞서 한신평은 전날 현대·기아차의 신용등급을 한단계씩 하향 조정했다.   \n",
       "4  IHS 마킷 이코노미스트 샨 존스는 \"설문에 답한 업체들이 자동차 산업이 맞닥뜨린 ...   \n",
       "\n",
       "                                                 중국어  \n",
       "0                       李会长对他的公司计划购买沃尔沃或萨博的报道上表示了贬值。  \n",
       "1  现代汽车相关人士表示:\"追加混合动力车款的现代汽车科纳是拥有汽油-柴油-混合动力-电动汽车国...  \n",
       "2  金融监管局最近下令制定一项计划,将违反交通法规的驾驶员的保险费提高至30％,以引起驾驶员和政...  \n",
       "3             此前,韩国信用评级机构在前一天将现代、起亚汽车的信用等级分别下调了一个等级。  \n",
       "4    IHS Markit经济学家肖恩·琼斯表示：\"回答问卷的企业们强调了汽车产业面临的艰难环境。\"  "
      ]
     },
     "execution_count": 65,
     "metadata": {},
     "output_type": "execute_result"
    }
   ],
   "source": [
    "tmp.head()"
   ]
  },
  {
   "cell_type": "code",
   "execution_count": null,
   "id": "81a62e33",
   "metadata": {},
   "outputs": [],
   "source": []
  },
  {
   "cell_type": "code",
   "execution_count": null,
   "id": "24dfc2a2",
   "metadata": {},
   "outputs": [],
   "source": []
  },
  {
   "cell_type": "code",
   "execution_count": null,
   "id": "74e73690",
   "metadata": {},
   "outputs": [],
   "source": []
  }
 ],
 "metadata": {
  "kernelspec": {
   "display_name": "Python [conda env:py38] *",
   "language": "python",
   "name": "conda-env-py38-py"
  },
  "language_info": {
   "codemirror_mode": {
    "name": "ipython",
    "version": 3
   },
   "file_extension": ".py",
   "mimetype": "text/x-python",
   "name": "python",
   "nbconvert_exporter": "python",
   "pygments_lexer": "ipython3",
   "version": "3.8.12"
  }
 },
 "nbformat": 4,
 "nbformat_minor": 5
}
