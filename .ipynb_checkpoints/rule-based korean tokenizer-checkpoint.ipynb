{
 "cells": [
  {
   "cell_type": "markdown",
   "id": "7207e9bd",
   "metadata": {},
   "source": [
    "# read the text file"
   ]
  },
  {
   "cell_type": "code",
   "execution_count": 3,
   "id": "f67bee30",
   "metadata": {},
   "outputs": [],
   "source": [
    "with open('data/korean_original.txt', 'r', encoding='utf-8') as f:\n",
    "    korean = f.read()"
   ]
  },
  {
   "cell_type": "code",
   "execution_count": 4,
   "id": "d4386b82",
   "metadata": {},
   "outputs": [
    {
     "data": {
      "text/plain": [
       "'명령은 아래와 같이 반포되었다.\\n명령은 반드시 엄격히 준수해야 한다.\\n운명의 여신께서는 용사를 특별히 애호하신다.\\n운명에 그가 죽을 것이라고 정해졌다.\\n운명에 그가 일찍 죽을 것이'"
      ]
     },
     "execution_count": 4,
     "metadata": {},
     "output_type": "execute_result"
    }
   ],
   "source": [
    "korean[:100]"
   ]
  },
  {
   "cell_type": "code",
   "execution_count": 75,
   "id": "72556d4b",
   "metadata": {},
   "outputs": [],
   "source": [
    "ls_korean = korean.split('\\n')"
   ]
  },
  {
   "cell_type": "code",
   "execution_count": 123,
   "id": "79c1253a",
   "metadata": {},
   "outputs": [
    {
     "name": "stdout",
     "output_type": "stream",
     "text": [
      "명령은 아래와 같이 반포되었다.\n",
      "명령은 반드시 엄격히 준수해야 한다.\n",
      "운명의 여신께서는 용사를 특별히 애호하신다.\n",
      "운명에 그가 죽을 것이라고 정해졌다.\n",
      "운명에 그가 일찍 죽을 것이라고 정해졌다.\n"
     ]
    }
   ],
   "source": [
    "for sent in ls_korean[:5]:\n",
    "    print(sent)"
   ]
  },
  {
   "cell_type": "markdown",
   "id": "1cf5714c",
   "metadata": {},
   "source": [
    "# set the list of josa (korean postpostional participle)"
   ]
  },
  {
   "cell_type": "code",
   "execution_count": 90,
   "id": "14087b34",
   "metadata": {},
   "outputs": [],
   "source": [
    "ls_josa = ['은', '는', '을', '를', '이', '가', '의', '에', '으로', '로', '과', '와', '도', '에서', '만', '이나', '나', '까지', \n",
    "          '부터', '에게', '보다', '처럼', '이라도', '라도', '으로서', '로서', '조차', '만큼', '같이', '마저', '이나마',\n",
    "          '나마', '한테', '더러', '에게서', '한테서', '께서', '께', '이야', '이라야']"
   ]
  },
  {
   "cell_type": "code",
   "execution_count": 126,
   "id": "99d7ba8b",
   "metadata": {},
   "outputs": [
    {
     "data": {
      "text/plain": [
       "40"
      ]
     },
     "execution_count": 126,
     "metadata": {},
     "output_type": "execute_result"
    }
   ],
   "source": [
    "len(ls_josa)"
   ]
  },
  {
   "cell_type": "markdown",
   "id": "b5e6fac3",
   "metadata": {},
   "source": [
    "# split each josa from words"
   ]
  },
  {
   "cell_type": "code",
   "execution_count": 124,
   "id": "b5ec1d1b",
   "metadata": {},
   "outputs": [],
   "source": [
    "re_ls_korean = []\n",
    "# iterate each sentence\n",
    "for sent in ls_korean[:5]:\n",
    "    \n",
    "    # iterate each word\n",
    "    ls_sent = sent.split(' ')\n",
    "    re_ls_sent = []\n",
    "    for word in ls_sent:\n",
    "        \n",
    "        # iterate each josa\n",
    "        for josa in ls_josa:\n",
    "            st = len(word) - len(josa)\n",
    "            \n",
    "            if josa in word and word[st:] == josa:\n",
    "                word = word[:st] + ' ' +josa\n",
    "                break\n",
    "                \n",
    "        re_ls_sent.append(word)\n",
    "    re_ls_korean.append(re_ls_sent)"
   ]
  },
  {
   "cell_type": "code",
   "execution_count": 125,
   "id": "57ddc9fc",
   "metadata": {},
   "outputs": [
    {
     "name": "stdout",
     "output_type": "stream",
     "text": [
      "['명령 은', '아래 와', '같 이', '반포되었다.']\n",
      "['명령 은', '반드시', '엄격히', '준수해야', '한다.']\n",
      "['운명 의', '여신께서 는', '용사 를', '특별히', '애호하신다.']\n",
      "['운명 에', '그 가', '죽 을', '것이라고', '정해졌다.']\n",
      "['운명 에', '그 가', '일찍', '죽 을', '것이라고', '정해졌다.']\n"
     ]
    }
   ],
   "source": [
    "for sent in re_ls_korean:\n",
    "    print(sent)"
   ]
  },
  {
   "cell_type": "code",
   "execution_count": null,
   "id": "6890f2bb",
   "metadata": {},
   "outputs": [],
   "source": []
  },
  {
   "cell_type": "code",
   "execution_count": null,
   "id": "87a7e5e4",
   "metadata": {},
   "outputs": [],
   "source": []
  }
 ],
 "metadata": {
  "kernelspec": {
   "display_name": "Python [conda env:py38] *",
   "language": "python",
   "name": "conda-env-py38-py"
  },
  "language_info": {
   "codemirror_mode": {
    "name": "ipython",
    "version": 3
   },
   "file_extension": ".py",
   "mimetype": "text/x-python",
   "name": "python",
   "nbconvert_exporter": "python",
   "pygments_lexer": "ipython3",
   "version": "3.8.12"
  }
 },
 "nbformat": 4,
 "nbformat_minor": 5
}
