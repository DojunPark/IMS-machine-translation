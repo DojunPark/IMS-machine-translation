{
 "cells": [
  {
   "cell_type": "code",
   "execution_count": 1,
   "id": "5cc9a57a",
   "metadata": {},
   "outputs": [
    {
     "data": {
      "text/plain": [
       "'/mnt/c/IMS-machine-translation'"
      ]
     },
     "execution_count": 1,
     "metadata": {},
     "output_type": "execute_result"
    }
   ],
   "source": [
    "pwd"
   ]
  },
  {
   "cell_type": "code",
   "execution_count": 2,
   "id": "f472e75f",
   "metadata": {},
   "outputs": [
    {
     "name": "stdout",
     "output_type": "stream",
     "text": [
      "\u001b[0m\u001b[01;32mchinese_original.txt\u001b[0m*  \u001b[01;32mkorean_original.txt\u001b[0m*\r\n"
     ]
    }
   ],
   "source": [
    "ls data"
   ]
  },
  {
   "cell_type": "markdown",
   "id": "d3323b16",
   "metadata": {},
   "source": [
    "# raw data to list"
   ]
  },
  {
   "cell_type": "code",
   "execution_count": 3,
   "id": "67c12f6f",
   "metadata": {},
   "outputs": [],
   "source": [
    "with open('/mnt/c/IMS-machine-translation/data/chinese_original.txt', 'r', encoding='utf-8') as f:\n",
    "    chinese = f.read()"
   ]
  },
  {
   "cell_type": "code",
   "execution_count": 4,
   "id": "39447645",
   "metadata": {},
   "outputs": [],
   "source": [
    "with open('/mnt/c/IMS-machine-translation/data/korean_original.txt', 'r', encoding='utf-8') as f:\n",
    "    korean = f.read()"
   ]
  },
  {
   "cell_type": "code",
   "execution_count": 5,
   "id": "725dbe25",
   "metadata": {},
   "outputs": [
    {
     "name": "stdout",
     "output_type": "stream",
     "text": [
      "命令颁布如下.\n",
      "命令必须严格遵守.\n",
      "命运的女神垂青勇士.\n",
      "命运注定他该死.\n",
      "命运注定他会早死.\n",
      "命运注定他要当牧师.\n",
      "命运注定他要受绞刑.\n",
      "命中注定我们要赢.\n",
      "摸摸就知道它是否热.\n",
      "摸摸看我的冷手.\n",
      "\n",
      "명령은 아래와 같이 반포되었다.\n",
      "명령은 반드시 엄격히 준수해야 한다.\n",
      "운명의 여신께서는 용사를 특별히 애호하신다.\n",
      "운명에 그가 죽을 것이라고 정해졌다.\n",
      "운명에 그가 일찍 죽을 것이\n"
     ]
    }
   ],
   "source": [
    "print(chinese[:100])\n",
    "print(korean[:100])"
   ]
  },
  {
   "cell_type": "code",
   "execution_count": 6,
   "id": "c63e2ad8",
   "metadata": {},
   "outputs": [],
   "source": [
    "ls_chinese = chinese.split('\\n')\n",
    "ls_korean = korean.split('\\n')"
   ]
  },
  {
   "cell_type": "code",
   "execution_count": 7,
   "id": "04067b32",
   "metadata": {},
   "outputs": [
    {
     "name": "stdout",
     "output_type": "stream",
     "text": [
      "55294\n",
      "55294\n"
     ]
    }
   ],
   "source": [
    "print(len(ls_chinese))\n",
    "print(len(ls_korean))"
   ]
  },
  {
   "cell_type": "code",
   "execution_count": 8,
   "id": "b4969dfb",
   "metadata": {},
   "outputs": [
    {
     "name": "stdout",
     "output_type": "stream",
     "text": [
      "['命令颁布如下.', '命令必须严格遵守.', '命运的女神垂青勇士.', '命运注定他该死.', '命运注定他会早死.']\n",
      "['명령은 아래와 같이 반포되었다.', '명령은 반드시 엄격히 준수해야 한다.', '운명의 여신께서는 용사를 특별히 애호하신다.', '운명에 그가 죽을 것이라고 정해졌다.', '운명에 그가 일찍 죽을 것이라고 정해졌다.']\n"
     ]
    }
   ],
   "source": [
    "print(ls_chinese[:5])\n",
    "print(ls_korean[:5])"
   ]
  },
  {
   "cell_type": "code",
   "execution_count": 11,
   "id": "57a327ab",
   "metadata": {},
   "outputs": [],
   "source": [
    "ls_parallel = [ls_chinese, ls_korean]"
   ]
  },
  {
   "cell_type": "markdown",
   "id": "4cd94232",
   "metadata": {},
   "source": [
    "# list to dataframe"
   ]
  },
  {
   "cell_type": "code",
   "execution_count": 12,
   "id": "b2e88684",
   "metadata": {},
   "outputs": [],
   "source": [
    "import pandas as pd\n",
    "\n",
    "df = pd.DataFrame(ls_parallel).transpose()\n",
    "df.columns = ['chinese', 'korean']"
   ]
  },
  {
   "cell_type": "code",
   "execution_count": 15,
   "id": "501e91a8",
   "metadata": {},
   "outputs": [
    {
     "data": {
      "text/html": [
       "<div>\n",
       "<style scoped>\n",
       "    .dataframe tbody tr th:only-of-type {\n",
       "        vertical-align: middle;\n",
       "    }\n",
       "\n",
       "    .dataframe tbody tr th {\n",
       "        vertical-align: top;\n",
       "    }\n",
       "\n",
       "    .dataframe thead th {\n",
       "        text-align: right;\n",
       "    }\n",
       "</style>\n",
       "<table border=\"1\" class=\"dataframe\">\n",
       "  <thead>\n",
       "    <tr style=\"text-align: right;\">\n",
       "      <th></th>\n",
       "      <th>chinese</th>\n",
       "      <th>korean</th>\n",
       "    </tr>\n",
       "  </thead>\n",
       "  <tbody>\n",
       "    <tr>\n",
       "      <th>0</th>\n",
       "      <td>命令颁布如下.</td>\n",
       "      <td>명령은 아래와 같이 반포되었다.</td>\n",
       "    </tr>\n",
       "    <tr>\n",
       "      <th>1</th>\n",
       "      <td>命令必须严格遵守.</td>\n",
       "      <td>명령은 반드시 엄격히 준수해야 한다.</td>\n",
       "    </tr>\n",
       "    <tr>\n",
       "      <th>2</th>\n",
       "      <td>命运的女神垂青勇士.</td>\n",
       "      <td>운명의 여신께서는 용사를 특별히 애호하신다.</td>\n",
       "    </tr>\n",
       "    <tr>\n",
       "      <th>3</th>\n",
       "      <td>命运注定他该死.</td>\n",
       "      <td>운명에 그가 죽을 것이라고 정해졌다.</td>\n",
       "    </tr>\n",
       "    <tr>\n",
       "      <th>4</th>\n",
       "      <td>命运注定他会早死.</td>\n",
       "      <td>운명에 그가 일찍 죽을 것이라고 정해졌다.</td>\n",
       "    </tr>\n",
       "  </tbody>\n",
       "</table>\n",
       "</div>"
      ],
      "text/plain": [
       "      chinese                    korean\n",
       "0     命令颁布如下.         명령은 아래와 같이 반포되었다.\n",
       "1   命令必须严格遵守.      명령은 반드시 엄격히 준수해야 한다.\n",
       "2  命运的女神垂青勇士.  운명의 여신께서는 용사를 특별히 애호하신다.\n",
       "3    命运注定他该死.      운명에 그가 죽을 것이라고 정해졌다.\n",
       "4   命运注定他会早死.   운명에 그가 일찍 죽을 것이라고 정해졌다."
      ]
     },
     "execution_count": 15,
     "metadata": {},
     "output_type": "execute_result"
    }
   ],
   "source": [
    "df.head()"
   ]
  },
  {
   "cell_type": "code",
   "execution_count": 14,
   "id": "f427e361",
   "metadata": {},
   "outputs": [
    {
     "data": {
      "text/plain": [
       "55294"
      ]
     },
     "execution_count": 14,
     "metadata": {},
     "output_type": "execute_result"
    }
   ],
   "source": [
    "len(df)"
   ]
  },
  {
   "cell_type": "code",
   "execution_count": 23,
   "id": "6def5bf9",
   "metadata": {},
   "outputs": [],
   "source": [
    "df.to_csv('./data/parallel.csv', index=False, encoding='utf-8')"
   ]
  },
  {
   "cell_type": "code",
   "execution_count": 33,
   "id": "bf90d53b",
   "metadata": {},
   "outputs": [],
   "source": [
    "tmp = pd.read_csv('./data/parallel.csv', encoding='utf-8')"
   ]
  },
  {
   "cell_type": "code",
   "execution_count": 34,
   "id": "02a9a8fb",
   "metadata": {},
   "outputs": [
    {
     "data": {
      "text/html": [
       "<div>\n",
       "<style scoped>\n",
       "    .dataframe tbody tr th:only-of-type {\n",
       "        vertical-align: middle;\n",
       "    }\n",
       "\n",
       "    .dataframe tbody tr th {\n",
       "        vertical-align: top;\n",
       "    }\n",
       "\n",
       "    .dataframe thead th {\n",
       "        text-align: right;\n",
       "    }\n",
       "</style>\n",
       "<table border=\"1\" class=\"dataframe\">\n",
       "  <thead>\n",
       "    <tr style=\"text-align: right;\">\n",
       "      <th></th>\n",
       "      <th>chinese</th>\n",
       "      <th>korean</th>\n",
       "    </tr>\n",
       "  </thead>\n",
       "  <tbody>\n",
       "    <tr>\n",
       "      <th>0</th>\n",
       "      <td>命令颁布如下.</td>\n",
       "      <td>명령은 아래와 같이 반포되었다.</td>\n",
       "    </tr>\n",
       "    <tr>\n",
       "      <th>1</th>\n",
       "      <td>命令必须严格遵守.</td>\n",
       "      <td>명령은 반드시 엄격히 준수해야 한다.</td>\n",
       "    </tr>\n",
       "    <tr>\n",
       "      <th>2</th>\n",
       "      <td>命运的女神垂青勇士.</td>\n",
       "      <td>운명의 여신께서는 용사를 특별히 애호하신다.</td>\n",
       "    </tr>\n",
       "    <tr>\n",
       "      <th>3</th>\n",
       "      <td>命运注定他该死.</td>\n",
       "      <td>운명에 그가 죽을 것이라고 정해졌다.</td>\n",
       "    </tr>\n",
       "    <tr>\n",
       "      <th>4</th>\n",
       "      <td>命运注定他会早死.</td>\n",
       "      <td>운명에 그가 일찍 죽을 것이라고 정해졌다.</td>\n",
       "    </tr>\n",
       "  </tbody>\n",
       "</table>\n",
       "</div>"
      ],
      "text/plain": [
       "      chinese                    korean\n",
       "0     命令颁布如下.         명령은 아래와 같이 반포되었다.\n",
       "1   命令必须严格遵守.      명령은 반드시 엄격히 준수해야 한다.\n",
       "2  命运的女神垂青勇士.  운명의 여신께서는 용사를 특별히 애호하신다.\n",
       "3    命运注定他该死.      운명에 그가 죽을 것이라고 정해졌다.\n",
       "4   命运注定他会早死.   운명에 그가 일찍 죽을 것이라고 정해졌다."
      ]
     },
     "execution_count": 34,
     "metadata": {},
     "output_type": "execute_result"
    }
   ],
   "source": [
    "tmp.head()"
   ]
  },
  {
   "cell_type": "code",
   "execution_count": null,
   "id": "b8c030d3",
   "metadata": {},
   "outputs": [],
   "source": []
  },
  {
   "cell_type": "code",
   "execution_count": null,
   "id": "1ad32747",
   "metadata": {},
   "outputs": [],
   "source": []
  },
  {
   "cell_type": "code",
   "execution_count": null,
   "id": "e5fd935e",
   "metadata": {},
   "outputs": [],
   "source": []
  }
 ],
 "metadata": {
  "kernelspec": {
   "display_name": "Python 3 (ipykernel)",
   "language": "python",
   "name": "python3"
  },
  "language_info": {
   "codemirror_mode": {
    "name": "ipython",
    "version": 3
   },
   "file_extension": ".py",
   "mimetype": "text/x-python",
   "name": "python",
   "nbconvert_exporter": "python",
   "pygments_lexer": "ipython3",
   "version": "3.8.12"
  }
 },
 "nbformat": 4,
 "nbformat_minor": 5
}
