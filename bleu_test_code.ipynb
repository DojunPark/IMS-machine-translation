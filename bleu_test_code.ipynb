{
 "cells": [
  {
   "cell_type": "code",
   "execution_count": 7,
   "id": "17a47c52",
   "metadata": {},
   "outputs": [],
   "source": [
    "import sys\n",
    "import unittest\n",
    "from math import exp, log, fsum\n",
    "from functools import reduce\n",
    "from operator import mul\n",
    "from nltk.translate.bleu_score import sentence_bleu\n",
    "\n",
    "\n",
    "def word_count(str):\n",
    "    counts = dict()\n",
    "    words = sorted(str)\n",
    "    for word in words:\n",
    "        if word in counts:\n",
    "            counts[word] += 1\n",
    "        else:\n",
    "            counts[word] = 1\n",
    "    return counts\n",
    "\n",
    "\n",
    "def mod_ngram_precision_count(cand_sent, ref_list, sum_count=True):\n",
    "  cand_count = word_count(cand_sent)\n",
    "  max_ref_count = dict.fromkeys(cand_count, 0)\n",
    "  ref_counts = [word_count(ref) for ref in ref_list]\n",
    "\n",
    "  for ref_count in ref_counts:\n",
    "    for key, value in ref_count.items():\n",
    "      if key in max_ref_count:\n",
    "          if max_ref_count[key] < value: # update max count in refs\n",
    "            max_ref_count[key] = value\n",
    "  for key, value in max_ref_count.items():\n",
    "    if cand_count[key] > value: # if candidate count more than max ref count\n",
    "      cand_count[key] = value # clip with max ref count\n",
    "  if sum_count==True:    \n",
    "    return sum(cand_count.values())\n",
    "  else:\n",
    "    return cand_count\n",
    "\n",
    "\n",
    "def ngram(text, gram_count):\n",
    "  return [tuple(text[i:i+gram_count]) for i in range(len(text)-gram_count+1)]\n",
    "\n",
    "\n",
    "def bleu(cand_sent, ref_list):\n",
    "  closest_ref_len = min([len(i) for i in ref_list], key=lambda x:abs(x-len(cand_sent)))\n",
    "  bp = min(1, exp(1 - closest_ref_len / len(cand_sent)))\n",
    "  prec = [mod_ngram_precision_count(ngram(cand_sent, i), [ngram(ref, i) for ref in ref_list]) / len(ngram(cand_sent, i)) for i in range(1,5)]\n",
    "  ls_prec = [0.25 * log(prec_n) if prec_n != 0 else 0.25 * log(sys.float_info.min) for prec_n in prec]\n",
    "  return bp * exp(fsum(ls_prec))"
   ]
  },
  {
   "cell_type": "code",
   "execution_count": 10,
   "id": "86759bd5",
   "metadata": {},
   "outputs": [
    {
     "name": "stdout",
     "output_type": "stream",
     "text": [
      "1.2882297539194154e-231\n",
      "1.2882297539194154e-231\n"
     ]
    }
   ],
   "source": [
    "# cand = \"the cat the cat on the mat\"\n",
    "cand = \"the the the the the the the the\"\n",
    "ref_1 = \"the cat is on the mat\"\n",
    "ref_2 = \"there is a cat on the mat\"\n",
    "\n",
    "cand = cand.split()\n",
    "ref_1 = ref_1.split()\n",
    "ref_2 = ref_2.split()\n",
    "\n",
    "print(bleu(cand, [ref_1, ref_2]))\n",
    "print(sentence_bleu(references=[ref_1, ref_2], hypothesis=cand, weights=(0.25,0.25,0.25,0.25)))"
   ]
  },
  {
   "cell_type": "code",
   "execution_count": null,
   "id": "b6e8d620",
   "metadata": {},
   "outputs": [],
   "source": []
  },
  {
   "cell_type": "code",
   "execution_count": null,
   "id": "3e6fa72b",
   "metadata": {},
   "outputs": [],
   "source": []
  },
  {
   "cell_type": "code",
   "execution_count": null,
   "id": "bf92a38a",
   "metadata": {},
   "outputs": [],
   "source": []
  }
 ],
 "metadata": {
  "kernelspec": {
   "display_name": "Python [conda env:py38] *",
   "language": "python",
   "name": "conda-env-py38-py"
  },
  "language_info": {
   "codemirror_mode": {
    "name": "ipython",
    "version": 3
   },
   "file_extension": ".py",
   "mimetype": "text/x-python",
   "name": "python",
   "nbconvert_exporter": "python",
   "pygments_lexer": "ipython3",
   "version": "3.8.12"
  }
 },
 "nbformat": 4,
 "nbformat_minor": 5
}
